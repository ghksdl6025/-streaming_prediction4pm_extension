{
 "cells": [
  {
   "cell_type": "code",
   "execution_count": 27,
   "metadata": {},
   "outputs": [],
   "source": [
    "from river import stream,tree,metrics\n",
    "import utils\n",
    "from encoding import prefix_bin\n",
    "import csv\n",
    "import copy\n",
    "import numpy as np\n",
    "from sklearn.metrics import classification_report, accuracy_score\n",
    "from tqdm import tqdm\n",
    "import pickle as pkl\n",
    "import matplotlib.pyplot as plt\n",
    "import os,json\n",
    "import datetime"
   ]
  },
  {
   "cell_type": "code",
   "execution_count": 37,
   "metadata": {},
   "outputs": [],
   "source": [
    "# Experiment settings\n",
    "\n",
    "dataset_label = 'bpic15'\n",
    "performance_measure_type = 'F1'\n",
    "\n",
    "dataset_loc = './DATA/logs/'+ dataset_label +'.csv'\n",
    "try:\n",
    "    os.makedirs('./result/%s'%(dataset_label))\n",
    "except:\n",
    "    pass\n",
    "\n",
    "# Set streaming classifier\n",
    "classifier = 'efdt'\n",
    "if classifier == 'htc':\n",
    "    streaming_classifier = tree.HoeffdingTreeClassifier(grace_period=100,split_criterion='info_gain')\n",
    "elif classifier =='hatc':\n",
    "    streaming_classifier = tree.HoeffdingAdaptiveTreeClassifier(grace_period=100,split_criterion='info_gain')\n",
    "elif classifier == 'efdt':\n",
    "    streaming_classifier = tree.ExtremelyFastDecisionTreeClassifier(grace_period=100,split_criterion='info_gain')"
   ]
  },
  {
   "cell_type": "code",
   "execution_count": 29,
   "metadata": {},
   "outputs": [
    {
     "name": "stdout",
     "output_type": "stream",
     "text": [
      "{'key_pair': {}, 'categorical_attrs': ['activity', 'resource'], 'maximum_prefix': 45}\n"
     ]
    }
   ],
   "source": [
    "# Invoke parameters for dataset\n",
    "window_size = 50\n",
    "\n",
    "with open('./dataset_parameters.json','r') as json_file:\n",
    "    parameters = json.load(json_file)[dataset_label]\n",
    "    print(parameters)\n",
    "    key_pair = parameters['key_pair']\n",
    "    catatars = parameters['categorical_attrs']\n",
    "    maximum_prefix = parameters['maximum_prefix']\n"
   ]
  },
  {
   "cell_type": "code",
   "execution_count": 30,
   "metadata": {},
   "outputs": [],
   "source": [
    "dataset = stream.iter_csv(\n",
    "            dataset_loc\n",
    "            )\n",
    "\n",
    "totallength = len(list(dataset))"
   ]
  },
  {
   "cell_type": "code",
   "execution_count": 31,
   "metadata": {},
   "outputs": [],
   "source": [
    "dataset = stream.iter_csv(\n",
    "            dataset_loc,\n",
    "            # drop=['Complete Timestamp'],\n",
    "            target='outcome'\n",
    "            )\n",
    "enctype = 'Index-base'"
   ]
  },
  {
   "cell_type": "code",
   "execution_count": 32,
   "metadata": {},
   "outputs": [],
   "source": [
    "streaming_db ={}\n",
    "training_models ={}\n",
    "feature_matrix ={}\n",
    "\n",
    "casecount = 0\n",
    "rowcounter = 0\n",
    "finished_db ={}\n",
    "acc_dict ={}\n",
    "window_acc_dict={'Time':[]}\n",
    "running_case = 0\n",
    "prediction_result = {}\n",
    "graceperiod_finish=0\n",
    "finished_caseid = set()\n",
    "usedingrace = set()\n",
    "window_size = 50\n",
    "window_label_dist ={}"
   ]
  },
  {
   "cell_type": "code",
   "execution_count": null,
   "metadata": {},
   "outputs": [],
   "source": [
    "def performance_measurement(metrics, type='acc'):\n",
    "    if type == 'acc':\n",
    "        return_value = metrics.Accuracy()\n",
    "    elif type =='F1':\n",
    "        return_value = metrics.F1()\n",
    "    elif type =='ROCAUC':\n",
    "        return_value = metrics.ROCAUC()\n",
    "        \n",
    "    return return_value"
   ]
  },
  {
   "cell_type": "code",
   "execution_count": 33,
   "metadata": {},
   "outputs": [
    {
     "name": "stdout",
     "output_type": "stream",
     "text": [
      "0.0 % Case finished: 0\n",
      "0.96 % Case finished: 5\n",
      "1.92 % Case finished: 13\n",
      "2.87 % Case finished: 27\n",
      "3.83 % Case finished: 44\n",
      "4.79 % Case finished: 51\n",
      "5.75 % Case finished: 59\n",
      "6.7 % Case finished: 70\n",
      "7.66 % Case finished: 75\n",
      "8.62 % Case finished: 83\n",
      "9.58 % Case finished: 97\n",
      "10.53 % Case finished: 112\n",
      "11.49 % Case finished: 125\n",
      "12.45 % Case finished: 131\n",
      "13.41 % Case finished: 157\n",
      "14.36 % Case finished: 172\n",
      "15.32 % Case finished: 186\n"
     ]
    }
   ],
   "source": [
    "'''\n",
    "Before test and training streaming event predictive monitoring, grace period is preceded to initialize model by prefix length\n",
    "and obtain feature matrix to transform future events\n",
    "'''\n",
    "\n",
    "for x,y in dataset:\n",
    "    if rowcounter%500 == 0:\n",
    "        print(round(rowcounter*100/totallength,2) ,'%', 'Case finished: %s'%(casecount))\n",
    "    rowcounter +=1\n",
    "    # Event stream change dictionary keys\n",
    "    x = utils.dictkey_chg(x, key_pair)\n",
    "    # if dataset_label =='bpic17':\n",
    "#     x['ts'] = x['ts'][:-4]\n",
    "\n",
    "        # Check label possible\n",
    "    # x = utils.set_label(x)\n",
    "    x['outcome'] =y \n",
    "    # Initialize case by prefix length\n",
    "    caseid = x['caseid']\n",
    "    outcome = x['outcome']\n",
    "#     progress = x['progress']\n",
    "\n",
    "    x.pop('caseid')\n",
    "    x.pop('outcome')\n",
    "    \n",
    "#     x.pop('progress')\n",
    "\n",
    "    case_bin = prefix_bin(caseid, x)\n",
    "    case_bin.set_enctype(enctype)\n",
    "\n",
    "    if caseid not in list(streaming_db.keys()):\n",
    "        case_bin.set_prefix_length(1)    \n",
    "        streaming_db[caseid] = []\n",
    "    elif caseid in finished_caseid:\n",
    "        pass\n",
    "    else:\n",
    "        case_bin.set_prefix_length(len(streaming_db[caseid])+1)\n",
    "        case_bin.set_prev_enc(streaming_db[caseid][-1])\n",
    "    \n",
    "    # Encode event and cases and add to DB\n",
    "    case_bin.update_truelabel(outcome)   \n",
    "    case_bin.update_encoded(catattrs=catatars,enctype=enctype)\n",
    "    ts = case_bin.event['ts']\n",
    "    streaming_db[caseid].append(case_bin)\n",
    "    usedingrace.add(caseid)\n",
    "    # Detect label appeared case \n",
    "    if outcome != '' and caseid not in finished_caseid:\n",
    "        finished_caseid.add(caseid)\n",
    "        # Adding newly finished case to training set.    \n",
    "        casecount +=1\n",
    "        # Grace period to collect feature matrix\n",
    "        if casecount <200:\n",
    "            case_length = len(streaming_db[caseid])\n",
    "            for prefix in range(1, case_length):\n",
    "                if 'prefix_%s'%(prefix+1) not in list(feature_matrix.keys()):\n",
    "                    feature_matrix['prefix_%s'%(prefix+1)]=set()\n",
    "                    # Initialize classifier and performance matrix and updating count\n",
    "                    training_models['prefix_%s'%(prefix+1)] = [streaming_classifier,\n",
    "                                                               metrics.F1(), \n",
    "                                                               utils.window_evaluation(window_size),\n",
    "                                                               0,0]\n",
    "                feature_list = list(streaming_db[caseid][prefix].encoded.keys())\n",
    "                for x in feature_list: feature_matrix['prefix_%s'%(prefix+1)].add(x) \n",
    "            graceperiod_finish = streaming_db[caseid][-1].event['ts']\n",
    "            for t in training_models.keys():\n",
    "                training_models[t][4] = graceperiod_finish\n",
    "            streaming_db.pop(caseid)            \n",
    "        else:\n",
    "            break"
   ]
  },
  {
   "cell_type": "code",
   "execution_count": 34,
   "metadata": {},
   "outputs": [
    {
     "name": "stdout",
     "output_type": "stream",
     "text": [
      "17.24 % Case finished: 201 Running case: 31\n",
      "22.98 % Case finished: 231 Running case: 48\n",
      "28.73 % Case finished: 295 Running case: 68\n",
      "34.47 % Case finished: 370 Running case: 73\n",
      "40.22 % Case finished: 441 Running case: 85\n",
      "45.96 % Case finished: 513 Running case: 80\n",
      "51.71 % Case finished: 602 Running case: 54\n",
      "57.45 % Case finished: 681 Running case: 37\n",
      "63.2 % Case finished: 737 Running case: 26\n",
      "68.94 % Case finished: 804 Running case: 15\n",
      "74.69 % Case finished: 859 Running case: 10\n",
      "80.43 % Case finished: 930 Running case: 7\n",
      "86.18 % Case finished: 975 Running case: 10\n",
      "91.92 % Case finished: 1038 Running case: 11\n",
      "97.67 % Case finished: 1105 Running case: 7\n"
     ]
    }
   ],
   "source": [
    "'''\n",
    "Streaming event label prediction start.\n",
    "- Test and training steps are executed when case finished/ event arrived with label\n",
    "'''\n",
    "streaming_db ={}\n",
    "for x,y in dataset:\n",
    "    if rowcounter%3000 == 0:\n",
    "        print(round(rowcounter*100/totallength,2) ,'%', 'Case finished: %s'%(casecount), 'Running case: %s'%(running_case))\n",
    "        \n",
    "    rowcounter +=1\n",
    "    # Event stream change dictionary keys\n",
    "    x = utils.dictkey_chg(x, key_pair)\n",
    "\n",
    "#     x['ts'] = x['ts'][:-4]\n",
    "\n",
    "    # Check label possible\n",
    "    # x = utils.set_label(x)\n",
    "    x['outcome'] =y \n",
    "    # Initialize case by prefix length\n",
    "    caseid = x['caseid']\n",
    "    outcome = x['outcome']\n",
    "    x.pop('caseid')\n",
    "    x.pop('outcome')\n",
    "    \n",
    "    if caseid not in usedingrace:\n",
    "        case_bin = prefix_bin(caseid, x)\n",
    "        case_bin.set_enctype(enctype)\n",
    "\n",
    "        if caseid not in list(streaming_db.keys()):\n",
    "            case_bin.set_prefix_length(1)    \n",
    "            streaming_db[caseid] = []\n",
    "            running_case +=1\n",
    "        elif caseid in finished_caseid:\n",
    "            pass\n",
    "        else:\n",
    "            case_bin.set_prefix_length(len(streaming_db[caseid])+1)\n",
    "            case_bin.set_prev_enc(streaming_db[caseid][-1])\n",
    "\n",
    "        # Encode event and cases and add to DB\n",
    "        case_bin.update_truelabel(outcome)   \n",
    "        case_bin.update_encoded(catattrs=catatars,enctype=enctype)\n",
    "        ts = case_bin.event['ts']\n",
    "        if case_bin.prefix_length >=2 and case_bin.prefix_length <= maximum_prefix:\n",
    "            case_bin.encoded = utils.readjustment_training(case_bin.encoded, feature_matrix['prefix_%s'%(case_bin.prefix_length)])\n",
    "            x_test = case_bin.encoded\n",
    "            model = training_models['prefix_%s'%(case_bin.prefix_length)][0]\n",
    "            y_pred = model.predict_one(x_test)\n",
    "            if type(y_pred) != str:\n",
    "                y_pred = 'False'\n",
    "            modelid,pred_value = copy.deepcopy(training_models['prefix_%s'%(case_bin.prefix_length)][3]), copy.deepcopy(y_pred)\n",
    "            case_bin.update_prediction((modelid, (pred_value,ts)))        \n",
    "        streaming_db[caseid].append(case_bin)\n",
    "\n",
    "        # Detect label appeared case \n",
    "        if outcome != '' and caseid not in finished_caseid:\n",
    "            finished_caseid.add(caseid)\n",
    "            # Adding newly finished case to training set.\n",
    "            casecount +=1    \n",
    "            # Real training start\n",
    "\n",
    "            # Modify encoded attributes of cases with feature matrix\n",
    "            case_length = len(streaming_db[caseid])\n",
    "            if case_length >maximum_prefix:\n",
    "                case_length =maximum_prefix\n",
    "            y = outcome\n",
    "            for prefix in range(1, case_length):\n",
    "                streaming_db[caseid][prefix].update_truelabel(y)\n",
    "                x = streaming_db[caseid][prefix].encoded\n",
    "                model = training_models['prefix_%s'%(prefix+1)][0]\n",
    "                model.learn_one(x,y)\n",
    "                training_models['prefix_%s'%(prefix+1)][3] +=1\n",
    "                last_pred_idx = sorted(streaming_db[caseid][prefix].call_predicted().keys())[-1]\n",
    "                last_pred = streaming_db[caseid][prefix].call_predicted()[last_pred_idx][0]\n",
    "                y_pred = model.predict_one(x)\n",
    "                training_models['prefix_%s'%(prefix+1)][1].update(y,y_pred)\n",
    "                training_models['prefix_%s'%(prefix+1)][2].update(y,last_pred)\n",
    "                for cases in list(streaming_db.keys()):\n",
    "                    if len(streaming_db[cases]) >prefix:\n",
    "                        x_test = streaming_db[cases][prefix].encoded\n",
    "                        y_pred = model.predict_one(x_test)\n",
    "                        modelid,pred_value = copy.deepcopy(training_models['prefix_%s'%(prefix+1)][3]), copy.deepcopy(y_pred)\n",
    "                        streaming_db[cases][prefix].update_prediction((modelid, (pred_value,ts)))\n",
    "                        prediction_key = str(cases)+'_'+str(prefix+1)\n",
    "            \n",
    "            copying = copy.deepcopy(streaming_db[caseid])\n",
    "            finished_db[caseid] = copying\n",
    "            \n",
    "            streaming_db[caseid] =[]\n",
    "            running_case -=1\n",
    "            \n",
    "            modelupdate_num = {}\n",
    "#             for t in list(training_models.keys()):\n",
    "#                 modelupdate_num[t] = training_models[t][3]\n",
    "#             finished_cases_bin[casecount] =modelupdate_num \n",
    "            window_acc_dict['Time'].append(ts)\n",
    "            for prefix in training_models.keys():\n",
    "                if prefix not in list(acc_dict.keys()):\n",
    "                    acc_dict[prefix]=[training_models[prefix][1].get()]\n",
    "                    \n",
    "                else:\n",
    "                    acc_dict[prefix].append(training_models[prefix][1].get())\n",
    "            \n",
    "            for t in training_models.keys():\n",
    "                if t not in list(window_acc_dict.keys()):\n",
    "                    window_acc_dict[t] =[training_models[t][2].get()]\n",
    "                    \n",
    "                else:\n",
    "                    window_acc_dict[t].append(training_models[t][2].get())\n",
    "                \n",
    "                    \n",
    "                # Record label distribution of sliding window\n",
    "                if t not in list(window_label_dist.keys()):\n",
    "                    window_label_dist[t] =[training_models[t][2].label_dist()]\n",
    "                else:\n",
    "                    window_label_dist[t].append(training_models[t][2].label_dist())"
   ]
  },
  {
   "cell_type": "code",
   "execution_count": 24,
   "metadata": {},
   "outputs": [
    {
     "data": {
      "text/plain": [
       "<module 'utils' from 'C:\\\\Users\\\\suhwanlee\\\\Desktop\\\\project\\\\streaming_prediction4pm_extension\\\\utils.py'>"
      ]
     },
     "execution_count": 24,
     "metadata": {},
     "output_type": "execute_result"
    }
   ],
   "source": [
    "from importlib import reload\n",
    "\n",
    "reload(utils)"
   ]
  },
  {
   "cell_type": "code",
   "execution_count": 25,
   "metadata": {},
   "outputs": [
    {
     "name": "stdout",
     "output_type": "stream",
     "text": [
      "8\n"
     ]
    },
    {
     "name": "stderr",
     "output_type": "stream",
     "text": [
      "100%|███████████████████████████████████████████████████████████████████████████████████████████████████████████████████████| 16753/16753 [00:00<00:00, 406612.86it/s]"
     ]
    },
    {
     "name": "stdout",
     "output_type": "stream",
     "text": [
      "0.7643908969210174\n",
      "0.7784090909090909\n",
      "0.7853949329359166\n",
      "0.7866043613707165\n",
      "0.7983870967741935\n",
      "0.8016949152542373\n",
      "0.8129370629370629\n",
      "0.8455743879472694\n",
      "0.9575892857142857\n",
      "0.9718969555035128\n",
      "0.9754901960784313\n",
      "0.9774436090225563\n",
      "0.9846938775510204\n",
      "0.9871794871794872\n",
      "0.9819121447028424\n",
      "0.9816272965879265\n",
      "0.9813333333333333\n",
      "0.9837837837837838\n",
      "0.9864130434782609\n",
      "0.9861495844875346\n",
      "0.9915492957746479\n",
      "0.9914772727272727\n",
      "0.9885386819484241\n",
      "0.9942363112391931\n",
      "0.9912536443148688\n",
      "0.9912280701754386\n",
      "0.9912023460410557\n",
      "0.9911504424778761\n",
      "0.9940652818991098\n",
      "0.9940298507462687\n",
      "0.993993993993994\n",
      "0.9909638554216867\n",
      "0.9909365558912386\n",
      "0.9906832298136646\n",
      "0.9899665551839465\n",
      "0.9895104895104895\n",
      "0.98828125\n",
      "0.9877551020408163\n",
      "0.986784140969163\n",
      "0.985981308411215\n",
      "0.9842105263157894\n",
      "0.9831460674157303\n",
      "0.9798657718120806\n"
     ]
    },
    {
     "name": "stderr",
     "output_type": "stream",
     "text": [
      "\n"
     ]
    }
   ],
   "source": [
    "# Continuous evaluation performance by prefix length-case bin average\n",
    "\n",
    "y_true, target_pred = utils.pl_case_continuous_evaluation(finished_db, type='average')\n",
    "bin_event_acc_average = {}\n",
    "max_length = max([len(x) for x in finished_db])\n",
    "print(max_length)\n",
    "\n",
    "for prefix in tqdm(list(y_true.keys())):\n",
    "    t = int(prefix.split('_')[-1])\n",
    "    if t in range(2,maximum_prefix):\n",
    "        if '%s'%(t) not in list(bin_event_acc_average.keys()):\n",
    "            bin_event_acc_average['%s'%(t)] ={'y_true':[],'y_pred':[]}\n",
    "        else:\n",
    "            bin_event_acc_average['%s'%(t)]['y_true'].append(y_true[prefix])\n",
    "            bin_event_acc_average['%s'%(t)]['y_pred'].append(target_pred[prefix])\n",
    "for prefix in bin_event_acc_average.keys():\n",
    "    print(accuracy_score(bin_event_acc_average[prefix]['y_true'], bin_event_acc_average[prefix]['y_pred']))\n",
    "    bin_event_acc_average[prefix]= accuracy_score(bin_event_acc_average[prefix]['y_true'], bin_event_acc_average[prefix]['y_pred'])"
   ]
  },
  {
   "cell_type": "code",
   "execution_count": 26,
   "metadata": {},
   "outputs": [
    {
     "name": "stdout",
     "output_type": "stream",
     "text": [
      "8\n"
     ]
    },
    {
     "name": "stderr",
     "output_type": "stream",
     "text": [
      "100%|███████████████████████████████████████████████████████████████████████████████████████████████████████████████████████| 16753/16753 [00:00<00:00, 370846.09it/s]"
     ]
    },
    {
     "name": "stdout",
     "output_type": "stream",
     "text": [
      "0.7603748326639893\n",
      "0.7755681818181818\n",
      "0.7839046199701938\n",
      "0.7897196261682243\n",
      "0.8\n",
      "0.8016949152542373\n",
      "0.8164335664335665\n",
      "0.847457627118644\n",
      "0.953125\n",
      "0.9718969555035128\n",
      "0.9705882352941176\n",
      "0.9799498746867168\n",
      "0.9821428571428571\n",
      "0.9846153846153847\n",
      "0.979328165374677\n",
      "0.979002624671916\n",
      "0.9786666666666667\n",
      "0.981081081081081\n",
      "0.9891304347826086\n",
      "0.9889196675900277\n",
      "0.9943661971830986\n",
      "0.9943181818181818\n",
      "0.9914040114613181\n",
      "0.9971181556195965\n",
      "0.9941690962099126\n",
      "0.9941520467836257\n",
      "0.9941348973607038\n",
      "0.9941002949852508\n",
      "0.9970326409495549\n",
      "0.9940298507462687\n",
      "0.993993993993994\n",
      "0.9909638554216867\n",
      "0.9909365558912386\n",
      "0.9906832298136646\n",
      "0.9899665551839465\n",
      "0.9895104895104895\n",
      "0.98828125\n",
      "0.9877551020408163\n",
      "0.986784140969163\n",
      "0.985981308411215\n",
      "0.9842105263157894\n",
      "0.9775280898876404\n",
      "0.9798657718120806\n"
     ]
    },
    {
     "name": "stderr",
     "output_type": "stream",
     "text": [
      "\n"
     ]
    }
   ],
   "source": [
    "# Continuous evaluation performance by prefix length-case bin time decaying\n",
    "\n",
    "y_true, target_pred = utils.pl_case_continuous_evaluation(finished_db, type='time_decaying')\n",
    "bin_event_acc_time = {}\n",
    "max_length = max([len(x) for x in finished_db])\n",
    "print(max_length)\n",
    "\n",
    "for prefix in tqdm(list(y_true.keys())):\n",
    "    t = int(prefix.split('_')[-1])\n",
    "    if t in range(2,maximum_prefix):\n",
    "        if '%s'%(t) not in list(bin_event_acc_time.keys()):\n",
    "            bin_event_acc_time['%s'%(t)] ={'y_true':[],'y_pred':[]}\n",
    "        else:\n",
    "            bin_event_acc_time['%s'%(t)]['y_true'].append(y_true[prefix])\n",
    "            bin_event_acc_time['%s'%(t)]['y_pred'].append(target_pred[prefix])\n",
    "for prefix in bin_event_acc_time.keys():\n",
    "    print(accuracy_score(bin_event_acc_time[prefix]['y_true'], bin_event_acc_time[prefix]['y_pred']))\n",
    "    bin_event_acc_time[prefix]= accuracy_score(bin_event_acc_time[prefix]['y_true'], bin_event_acc_time[prefix]['y_pred'])"
   ]
  },
  {
   "cell_type": "code",
   "execution_count": 35,
   "metadata": {},
   "outputs": [
    {
     "data": {
      "text/plain": [
       "Text(0.5, 0, 'Prefix length')"
      ]
     },
     "execution_count": 35,
     "metadata": {},
     "output_type": "execute_result"
    },
    {
     "data": {
      "image/png": "[encoded data removed]",
      "text/plain": [
       "<Figure size 1152x576 with 1 Axes>"
      ]
     },
     "metadata": {
      "needs_background": "light"
     },
     "output_type": "display_data"
    }
   ],
   "source": [
    "# Continuous evaluation by prefix length\n",
    "plt.figure(figsize=(16, 8))\n",
    "\n",
    "plt.rc('axes', titlesize=18) # fontsize of the axes title \n",
    "plt.rc('axes', labelsize=18) # fontsize of the x and y labels \n",
    "plt.rc('xtick', labelsize=15) # fontsize of the tick labels \n",
    "plt.rc('ytick', labelsize=15) # fontsize of the tick labels \n",
    "plt.rc('legend', fontsize=14) # legend fontsize \n",
    "\n",
    "axes = plt.gca()\n",
    "axes.set_ylim([-0.05, 1.05])\n",
    "\n",
    "x_avg,ce_acc_avg_y = list(bin_event_acc_average.keys()),[bin_event_acc_average[x] for x in bin_event_acc_average.keys()]\n",
    "x_time,ce_acc_time_y = list(bin_event_acc_time.keys()),[bin_event_acc_time[x] for x in bin_event_acc_time.keys()]\n",
    "plt.plot(x_avg,ce_acc_avg_y,'-o',label='Continuous evaluation Average')\n",
    "plt.plot(x_time,ce_acc_time_y,'-o',label='Continuous evaluation Time decaying')\n",
    "\n",
    "plt.title('Continuous evaluation accuracy by prefix length bin')\n",
    "plt.legend()\n",
    "plt.ylabel('Accuracy')\n",
    "plt.xlabel('Prefix length')\n",
    "\n",
    "# plt.savefig('./img/%s/%s_continuous_evaluation_plbin.png'%(dataset_label, classifier), dpi=200)\n",
    "# with open('./result/%s/%s_continuous_evaluation_plbin_average.pkl'%(dataset_label,classifier),'wb') as f:\n",
    "#     pkl.dump([x_avg,ce_acc_avg_y],f)\n",
    "    \n",
    "# with open('./result/%s/%s_continuous_evaluation_plbin_average.pkl'%(dataset_label,classifier),'wb') as f:\n",
    "#     pkl.dump([x_avg,ce_acc_avg_y],f)"
   ]
  },
  {
   "cell_type": "code",
   "execution_count": 38,
   "metadata": {},
   "outputs": [
    {
     "name": "stdout",
     "output_type": "stream",
     "text": [
      "bpic15 efdt window 50 F1.pkl\n",
      "bpic15 efdt window 50 window_F1.pkl\n"
     ]
    },
    {
     "data": {
      "image/png": "[encoded data removed]",
      "text/plain": [
       "<Figure size 1152x576 with 1 Axes>"
      ]
     },
     "metadata": {
      "needs_background": "light"
     },
     "output_type": "display_data"
    }
   ],
   "source": [
    "# Real-time window evaluation\n",
    "\n",
    "plt.figure(figsize=(16, 8))\n",
    "\n",
    "plt.rc('axes', titlesize=18) # fontsize of the axes title \n",
    "plt.rc('axes', labelsize=18) # fontsize of the x and y labels \n",
    "plt.rc('xtick', labelsize=15) # fontsize of the tick labels \n",
    "plt.rc('ytick', labelsize=15) # fontsize of the tick labels \n",
    "plt.rc('legend', fontsize=14) # legend fontsize \n",
    "\n",
    "\n",
    "average_dict= {'Accuracy':[], 'Time':[]}\n",
    "for y in range(len(window_acc_dict['prefix_2'])):\n",
    "    agg_avg = np.mean([window_acc_dict['prefix_%s'%(t)][y] for t in range(2,maximum_prefix)])\n",
    "    average_dict['Accuracy'].append(agg_avg)\n",
    "plt.plot(average_dict['Accuracy'],label = 'Average')\n",
    "\n",
    "plt.title('Window(%s)-evaluation accuracy'%(window_size))\n",
    "plt.legend()\n",
    "plt.ylabel('Accuracy')\n",
    "plt.xlabel('Finished cases')\n",
    "\n",
    "plt.legend()\n",
    "\n",
    "name = '%s %s window %s %s.pkl'%(dataset_label,classifier, window_size, performance_measure_type)\n",
    "print(name)\n",
    "average_dict['Time'] = window_acc_dict['Time']\n",
    "\n",
    "with open('./result/%s/%s'%(dataset_label,name) ,'wb') as f:\n",
    "    pkl.dump(average_dict,f)\n",
    "\n",
    "name = '%s %s window %s window_%s.pkl'%(dataset_label,classifier, window_size, performance_measure_type)\n",
    "print(name)\n",
    "\n",
    "with open('./result/%s/%s'%(dataset_label,name) ,'wb') as f:\n",
    "    pkl.dump(window_acc_dict,f)\n"
   ]
  },
  {
   "cell_type": "code",
   "execution_count": null,
   "metadata": {},
   "outputs": [],
   "source": []
  }
 ],
 "metadata": {
  "kernelspec": {
   "display_name": "Python 3 (ipykernel)",
   "language": "python",
   "name": "python3"
  },
  "language_info": {
   "codemirror_mode": {
    "name": "ipython",
    "version": 3
   },
   "file_extension": ".py",
   "mimetype": "text/x-python",
   "name": "python",
   "nbconvert_exporter": "python",
   "pygments_lexer": "ipython3",
   "version": "3.9.5"
  }
 },
 "nbformat": 4,
 "nbformat_minor": 2
}
