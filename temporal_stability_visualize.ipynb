{
 "cells": [
  {
   "cell_type": "code",
   "execution_count": 74,
   "id": "ccb39f56",
   "metadata": {},
   "outputs": [],
   "source": [
    "import pandas as pd\n",
    "import matplotlib.pyplot as plt\n",
    "import numpy as np\n",
    "from matplotlib.pyplot import figure"
   ]
  },
  {
   "cell_type": "code",
   "execution_count": 26,
   "id": "27639806",
   "metadata": {},
   "outputs": [],
   "source": [
    "df = pd.read_csv('./temporal_stability_result.csv')"
   ]
  },
  {
   "cell_type": "code",
   "execution_count": 27,
   "id": "b6a0a6c0",
   "metadata": {},
   "outputs": [],
   "source": [
    "df['Settings'] = df['Datalabel'] + ' '+df['Classifier']"
   ]
  },
  {
   "cell_type": "code",
   "execution_count": 1,
   "id": "8ddd853c",
   "metadata": {},
   "outputs": [
    {
     "ename": "NameError",
     "evalue": "name 'df' is not defined",
     "output_type": "error",
     "traceback": [
      "\u001b[1;31m---------------------------------------------------------------------------\u001b[0m",
      "\u001b[1;31mNameError\u001b[0m                                 Traceback (most recent call last)",
      "\u001b[1;32m~\\AppData\\Local\\Temp/ipykernel_8964/3877020054.py\u001b[0m in \u001b[0;36m<module>\u001b[1;34m\u001b[0m\n\u001b[0;32m      2\u001b[0m \u001b[0mx_label\u001b[0m \u001b[1;33m=\u001b[0m \u001b[1;33m[\u001b[0m\u001b[1;33m]\u001b[0m\u001b[1;33m\u001b[0m\u001b[1;33m\u001b[0m\u001b[0m\n\u001b[0;32m      3\u001b[0m \u001b[0mcls_list\u001b[0m \u001b[1;33m=\u001b[0m \u001b[1;33m[\u001b[0m\u001b[1;33m]\u001b[0m\u001b[1;33m\u001b[0m\u001b[1;33m\u001b[0m\u001b[0m\n\u001b[1;32m----> 4\u001b[1;33m \u001b[1;32mfor\u001b[0m \u001b[0mclassifier\u001b[0m \u001b[1;32min\u001b[0m \u001b[0mset\u001b[0m\u001b[1;33m(\u001b[0m\u001b[0mdf\u001b[0m\u001b[1;33m[\u001b[0m\u001b[1;34m'Classifier'\u001b[0m\u001b[1;33m]\u001b[0m\u001b[1;33m)\u001b[0m\u001b[1;33m:\u001b[0m\u001b[1;33m\u001b[0m\u001b[1;33m\u001b[0m\u001b[0m\n\u001b[0m\u001b[0;32m      5\u001b[0m     \u001b[0mcls\u001b[0m \u001b[1;33m=\u001b[0m \u001b[0mdf\u001b[0m\u001b[1;33m[\u001b[0m\u001b[0mdf\u001b[0m\u001b[1;33m[\u001b[0m\u001b[1;34m'Classifier'\u001b[0m\u001b[1;33m]\u001b[0m \u001b[1;33m==\u001b[0m \u001b[0mclassifier\u001b[0m\u001b[1;33m]\u001b[0m\u001b[1;33m\u001b[0m\u001b[1;33m\u001b[0m\u001b[0m\n\u001b[0;32m      6\u001b[0m     \u001b[0mcls\u001b[0m \u001b[1;33m=\u001b[0m \u001b[0mcls\u001b[0m\u001b[1;33m.\u001b[0m\u001b[0msort_values\u001b[0m\u001b[1;33m(\u001b[0m\u001b[0mby\u001b[0m\u001b[1;33m=\u001b[0m\u001b[1;34m'Datalabel'\u001b[0m\u001b[1;33m)\u001b[0m\u001b[1;33m\u001b[0m\u001b[1;33m\u001b[0m\u001b[0m\n",
      "\u001b[1;31mNameError\u001b[0m: name 'df' is not defined"
     ]
    }
   ],
   "source": [
    "results =[]\n",
    "x_label = []\n",
    "cls_list = []\n",
    "for classifier in set(df['Classifier']):\n",
    "    cls = df[df['Classifier'] == classifier]\n",
    "    cls = cls.sort_values(by='Datalabel')\n",
    "    \n",
    "    cls_list.append(classifier)\n",
    "    x_label = list(cls['Datalabel'])\n",
    "    results.append(list(cls['Results']))\n",
    "\n",
    "X = np.arange(6)\n",
    "fig = plt.figure(figsize = (12,8))\n",
    "\n",
    "ax = fig.add_axes([0,0,1,1])\n",
    "\n",
    "for pos, t in enumerate(x_label):\n",
    "    if 'synthetic' in t:\n",
    "        t = t.replace('_','\\n')\n",
    "#         t = t.split()\n",
    "        print(t)\n",
    "        x_label[pos] =t\n",
    "ax.bar(X+0.0, results[0], color ='#484848', width=0.25, label = cls_list[0])\n",
    "ax.bar(X+0.25, results[1], color ='#777', width=0.25, label = cls_list[1])\n",
    "ax.bar(X+0.5, results[2], color ='#999', width=0.25, label = cls_list[2])\n",
    "\n",
    "ax.set_xticks(X+0.25)\n",
    "ax.set_xticklabels(x_label)\n",
    "plt.ylim(0.98,1)\n",
    "\n",
    "plt.legend()\n",
    "plt.show()"
   ]
  },
  {
   "cell_type": "code",
   "execution_count": null,
   "id": "fd4fd521",
   "metadata": {},
   "outputs": [],
   "source": []
  }
 ],
 "metadata": {
  "kernelspec": {
   "display_name": "Python 3 (ipykernel)",
   "language": "python",
   "name": "python3"
  },
  "language_info": {
   "codemirror_mode": {
    "name": "ipython",
    "version": 3
   },
   "file_extension": ".py",
   "mimetype": "text/x-python",
   "name": "python",
   "nbconvert_exporter": "python",
   "pygments_lexer": "ipython3",
   "version": "3.9.4"
  }
 },
 "nbformat": 4,
 "nbformat_minor": 5
}
